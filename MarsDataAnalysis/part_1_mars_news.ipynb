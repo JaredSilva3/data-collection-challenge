{
 "cells": [
  {
   "attachments": {},
   "cell_type": "markdown",
   "metadata": {},
   "source": [
    "# Module 11 Challenge\n",
    "## Deliverable 1: Scrape Titles and Preview Text from Mars News"
   ]
  },
  {
   "cell_type": "code",
   "execution_count": 43,
   "metadata": {},
   "outputs": [],
   "source": [
    "# Import required libraries\n",
    "import requests\n",
    "from bs4 import BeautifulSoup\n",
    "import pprint"
   ]
  },
  {
   "attachments": {},
   "cell_type": "markdown",
   "metadata": {},
   "source": [
    "### Step 1: Visit the Website\n",
    "\n",
    "1. Use automated browsing to visit the [Mars news site](https://static.bc-edx.com/data/web/mars_news/index.html). Inspect the page to identify which elements to scrape.\n",
    "\n",
    "      > **Hint** To identify which elements to scrape, you might want to inspect the page by using Chrome DevTools."
   ]
  },
  {
   "cell_type": "code",
   "execution_count": 44,
   "metadata": {},
   "outputs": [],
   "source": [
    "# Visit the Mars news site\n",
    "url = 'https://static.bc-edx.com/data/web/mars_news/index.html'\n",
    "\n",
    "# Use requests to fetch the website content\n",
    "response = requests.get(url)"
   ]
  },
  {
   "attachments": {},
   "cell_type": "markdown",
   "metadata": {},
   "source": [
    "### Step 2: Scrape the Website\n",
    "\n",
    "Create a Beautiful Soup object and use it to extract text elements from the website."
   ]
  },
  {
   "cell_type": "code",
   "execution_count": 45,
   "metadata": {},
   "outputs": [],
   "source": [
    "# Create a Beautiful Soup object\n",
    "soup = BeautifulSoup(response.text, 'html.parser')"
   ]
  },
  {
   "cell_type": "code",
   "execution_count": 46,
   "metadata": {},
   "outputs": [],
   "source": [
    "# Extract all the text elements\n",
    "articles = soup.find_all('div', class_='list_text')"
   ]
  },
  {
   "attachments": {},
   "cell_type": "markdown",
   "metadata": {},
   "source": [
    "### Step 3: Store the Results\n",
    "\n",
    "Extract the titles and preview text of the news articles that you scraped. Store the scraping results in Python data structures as follows:\n",
    "\n",
    "* Store each title-and-preview pair in a Python dictionary. And, give each dictionary two keys: `title` and `preview`. An example is the following:\n",
    "\n",
    "  ```python\n",
    "  {'title': \"NASA's MAVEN Observes Martian Light Show Caused by Major Solar Storm\", \n",
    "   'preview': \"For the first time in its eight years orbiting Mars, NASA’s MAVEN mission witnessed two different types of ultraviolet aurorae simultaneously, the result of solar storms that began on Aug. 27.\"\n",
    "  }\n",
    "  ```\n",
    "\n",
    "* Store all the dictionaries in a Python list.\n",
    "\n",
    "* Print the list in your notebook."
   ]
  },
  {
   "cell_type": "code",
   "execution_count": 47,
   "metadata": {},
   "outputs": [],
   "source": [
    "# Create an empty list to store the dictionaries\n",
    "mars_news = []"
   ]
  },
  {
   "cell_type": "code",
   "execution_count": 48,
   "metadata": {},
   "outputs": [],
   "source": [
    "# Loop through the text elements\n",
    "# Extract the title and preview text from the elements\n",
    "for article in articles:\n",
    "    title = article.find('div', class_='content_title').get_text()\n",
    "    preview = article.find('div', class_='article_teaser_body').get_text()\n",
    "\n",
    "    # Store each title and preview pair in a dictionary\n",
    "    news_dict = {\n",
    "        'title': title,\n",
    "        'preview': preview\n",
    "    }\n",
    "    \n",
    "    # Add the dictionary to the list\n",
    "    mars_news.append(news_dict)\n"
   ]
  },
  {
   "cell_type": "code",
   "execution_count": 49,
   "metadata": {},
   "outputs": [
    {
     "name": "stdout",
     "output_type": "stream",
     "text": [
      "[{'preview': 'For the first time in its eight years orbiting Mars, '\n",
      "             'NASAâ\\x80\\x99s MAVEN mission witnessed two different types of '\n",
      "             'ultraviolet aurorae simultaneously, the result of solar storms '\n",
      "             'that began on Aug. 27.',\n",
      "  'title': \"NASA's MAVEN Observes Martian Light Show Caused by Major Solar \"\n",
      "           'Storm'},\n",
      " {'preview': 'A closer look at what goes into wrapping up the mission as the '\n",
      "             'spacecraftâ\\x80\\x99s power supply continues to dwindle.',\n",
      "  'title': \"NASA Prepares to Say 'Farewell' to InSight Spacecraft\"},\n",
      " {'preview': 'The agencyâ\\x80\\x99s Perseverance rover will establish the first '\n",
      "             'sample depot on Mars.',\n",
      "  'title': 'NASA and ESA Agree on Next Steps to Return Mars Samples to Earth'},\n",
      " {'preview': 'The agencyâ\\x80\\x99s lander felt the ground shake during the '\n",
      "             'impact while cameras aboard the Mars Reconnaissance Orbiter '\n",
      "             'spotted the yawning new crater from space.',\n",
      "  'title': \"NASA's InSight Lander Detects Stunning Meteoroid Impact on Mars\"},\n",
      " {'preview': 'Scientists from two Mars missions will discuss how they combined '\n",
      "             'images and data for a major finding on the Red Planet.',\n",
      "  'title': 'NASA To Host Briefing on InSight, Mars Reconnaissance Orbiter '\n",
      "           'Findings'},\n",
      " {'preview': 'Like a carâ\\x80\\x99s crumple zone, the experimental SHIELD '\n",
      "             'lander is designed to absorb a hard impact.',\n",
      "  'title': 'Why NASA Is Trying To Crash Land on Mars'},\n",
      " {'preview': 'After years of climbing, the Mars rover has arrived at a special '\n",
      "             'region believed to have formed as Marsâ\\x80\\x99 climate was '\n",
      "             'drying.',\n",
      "  'title': 'Curiosity Mars Rover Reaches Long-Awaited Salty Region'},\n",
      " {'preview': 'Protecting Mars Sample Return spacecraft from micrometeorites '\n",
      "             'requires high-caliber work.',\n",
      "  'title': 'Mars Mission Shields Up for Tests'},\n",
      " {'preview': 'InSightâ\\x80\\x99s team is taking steps to help the solar-powered '\n",
      "             'lander continue operating for as long as possible.',\n",
      "  'title': \"NASA's InSight Waits Out Dust Storm\"},\n",
      " {'preview': 'The Mars landerâ\\x80\\x99s seismometer has picked up vibrations '\n",
      "             'from four separate impacts in the past two years.',\n",
      "  'title': \"NASA's InSight 'Hears' Its First Meteoroid Impacts on Mars\"},\n",
      " {'preview': 'The latest findings provide greater detail on a region of the '\n",
      "             'Red Planet that has a watery past and is yielding promising '\n",
      "             'samples for the NASA-ESA Mars Sample Return campaign.',\n",
      "  'title': \"NASA's Perseverance Rover Investigates Geologically Rich Mars \"\n",
      "           'Terrain'},\n",
      " {'preview': 'Members of the mission will discuss the roverâ\\x80\\x99s '\n",
      "             'activities as it gathers samples in an ancient river delta.',\n",
      "  'title': 'NASA to Host Briefing on Perseverance Mars Rover Mission '\n",
      "           'Operations'},\n",
      " {'preview': 'The rover found that Jezero Craterâ\\x80\\x99s floor is made up of '\n",
      "             'volcanic rocks that have interacted with water.',\n",
      "  'title': \"NASA's Perseverance Makes New Discoveries in Mars' Jezero Crater\"},\n",
      " {'preview': 'Despite signs of wear, the intrepid spacecraft is about to start '\n",
      "             'an exciting new chapter of its mission as it climbs a Martian '\n",
      "             'mountain.',\n",
      "  'title': \"10 Years Since Landing, NASA's Curiosity Mars Rover Still Has \"\n",
      "           'Drive'},\n",
      " {'preview': 'â\\x80\\x9cSelfieâ\\x80\\x9d of the Curiosity rover with inset '\n",
      "             'showing the SAM instrument prior to installation on the rover.',\n",
      "  'title': \"SAM's Top 5 Discoveries Aboard NASA's Curiosity Rover at Mars\"}]\n"
     ]
    }
   ],
   "source": [
    "# Print the list to confirm success\n",
    "pprint.pprint(mars_news)\n"
   ]
  },
  {
   "cell_type": "code",
   "execution_count": null,
   "metadata": {},
   "outputs": [],
   "source": []
  }
 ],
 "metadata": {
  "kernelspec": {
   "display_name": "Python 3 (ipykernel)",
   "language": "python",
   "name": "python3"
  },
  "language_info": {
   "codemirror_mode": {
    "name": "ipython",
    "version": 3
   },
   "file_extension": ".py",
   "mimetype": "text/x-python",
   "name": "python",
   "nbconvert_exporter": "python",
   "pygments_lexer": "ipython3",
   "version": "3.12.5"
  },
  "vscode": {
   "interpreter": {
    "hash": "31f2aee4e71d21fbe5cf8b01ff0e069b9275f58929596ceb00d14d90e3e16cd6"
   }
  }
 },
 "nbformat": 4,
 "nbformat_minor": 4
}
